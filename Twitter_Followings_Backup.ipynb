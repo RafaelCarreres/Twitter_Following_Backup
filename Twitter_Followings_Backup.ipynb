{
  "nbformat": 4,
  "nbformat_minor": 0,
  "metadata": {
    "colab": {
      "provenance": []
    },
    "kernelspec": {
      "name": "python3",
      "display_name": "Python 3"
    },
    "language_info": {
      "name": "python"
    }
  },
  "cells": [
    {
      "cell_type": "markdown",
      "source": [
        "#Como hacer un backup de la gente a la que sigues en Twitter\n",
        "## Crear Cuenta Developer en Twitter\n",
        "#### Al crear un proyecto para una aplicacion, conseguiremos las Keys necesarias para poder acceder a la API de Twitter.\n",
        "\n",
        "##Instalar:\n",
        "####1.- Visual Studio Code\n",
        "####2.- Extensiones de Python y Jupyter para Visual Studio Code\n",
        "####3.- Miniconda con Python 3.9\n",
        "--------------------------------------------------------------------------------"
      ],
      "metadata": {
        "id": "mLCVMF_2QXFA"
      }
    },
    {
      "cell_type": "markdown",
      "source": [
        "Primero vamos a crear un entorno especial para este proyecto. En el que estará instalado: Python, Jupyter, Pandas (para crear y trabajar con el dataframe) y Tweepy (para poder conectarnos a la API de Twitter)"
      ],
      "metadata": {
        "id": "ztFrdUwlWPEy"
      }
    },
    {
      "cell_type": "code",
      "execution_count": null,
      "metadata": {
        "id": "8srh2iBPQWOG"
      },
      "outputs": [],
      "source": [
        "conda create -n myenv python=3.9 pandas jupyter pandas tweepy"
      ]
    },
    {
      "cell_type": "markdown",
      "source": [
        "En Visual Studio Code, una vez escogido la carpeta en la que vamos a trabajar, crearemos un nuevo notebook escogiendo en el kernel el entorno (myenv) que hemos creado antes."
      ],
      "metadata": {
        "id": "Wc3rhTcUXzPZ"
      }
    },
    {
      "cell_type": "markdown",
      "source": [
        "En él pondremos el siguiente codigo."
      ],
      "metadata": {
        "id": "kvvxNyu0YQQJ"
      }
    },
    {
      "cell_type": "code",
      "source": [
        "pip install tweepy"
      ],
      "metadata": {
        "id": "4HfSYDEhYzbu"
      },
      "execution_count": null,
      "outputs": []
    },
    {
      "cell_type": "code",
      "source": [
        "import tweepy\n",
        "import pandas as pd"
      ],
      "metadata": {
        "id": "vxUY01djY19f"
      },
      "execution_count": null,
      "outputs": []
    },
    {
      "cell_type": "code",
      "source": [
        "# Rellenar con la informacion de acceso a la API de Twitter\n",
        "BEARER_TOKEN = \"\"\n",
        "\n",
        "client = tweepy.Client(bearer_token=BEARER_TOKEN)"
      ],
      "metadata": {
        "id": "It0PVWzCY3_O"
      },
      "execution_count": null,
      "outputs": []
    },
    {
      "cell_type": "code",
      "source": [
        "# Obtener codigo del User Id\n",
        "username = 'RafaelCarreres'   # No es necesario poner @ del username\n",
        "user = client.get_users(usernames=username)\n",
        "userID = user.data[0].id"
      ],
      "metadata": {
        "id": "XCMZ2MWCZGC1"
      },
      "execution_count": null,
      "outputs": []
    },
    {
      "cell_type": "code",
      "source": [
        "# Gente a la que sigue ese User Id (no se pueden obtener mas de 1000)\n",
        "users = client.get_users_following(id=userID, user_fields=\"username,name\", max_results=1000)"
      ],
      "metadata": {
        "id": "G9gDtEhOgYLu"
      },
      "execution_count": null,
      "outputs": []
    },
    {
      "cell_type": "code",
      "source": [
        "# Convertir en un Dataframe\n",
        "df = pd.DataFrame.from_dict(users.data)\n",
        "df.head()"
      ],
      "metadata": {
        "id": "ensAttvqiuMp"
      },
      "execution_count": null,
      "outputs": []
    },
    {
      "cell_type": "code",
      "source": [
        "# Exportar como archivo .csv\n",
        "df.to_csv('following_users_Rafa.csv')"
      ],
      "metadata": {
        "id": "O1C88_zyiu95"
      },
      "execution_count": null,
      "outputs": []
    },
    {
      "cell_type": "markdown",
      "source": [
        "##Para ver la diferencia entre dos Dataframes\n",
        "En este caso, ver las personas que ha dejado de seguir el usuario o que han cancelado su cuenta.\n"
      ],
      "metadata": {
        "id": "vL2oQwiEiz2t"
      }
    },
    {
      "cell_type": "code",
      "source": [
        "# Ver la diferencia entre dos datasets\n",
        "df1 = pd.read_csv(\"/Users/internet/Documents/Data Science/following_users_Rafa_20112022.csv\", index_col=0)\n",
        "df2 = pd.read_csv(\"/Users/internet/Documents/Data Science/following_users_Rafa_24112022.csv\", index_col=0)"
      ],
      "metadata": {
        "id": "t48_Svy3jUnU"
      },
      "execution_count": null,
      "outputs": []
    },
    {
      "cell_type": "code",
      "source": [
        "# Forma mas segura de ver la diferencia entre dos Dataframes, teniendo en cuenta una columna \n",
        "df_dif = pd.concat([df1, df2]).drop_duplicates('id', keep=False)\n",
        "df_dif.head()"
      ],
      "metadata": {
        "id": "fQIKuGn_ju8v"
      },
      "execution_count": null,
      "outputs": []
    },
    {
      "cell_type": "code",
      "source": [
        "# Otra forma sería con \"merge\". Pero si el usuario cambia el nombre da un false positive\n",
        "df = df1.merge(df2, how = 'outer' ,indicator=True).loc[lambda x : x['_merge']=='left_only']\n",
        "df.head()"
      ],
      "metadata": {
        "id": "41forzXWj5bx"
      },
      "execution_count": null,
      "outputs": []
    },
    {
      "cell_type": "markdown",
      "source": [
        "##Para ver el Nombre y Nombre de Usuario a partir del Id de Usuario"
      ],
      "metadata": {
        "id": "r7Z17gdnmRu6"
      }
    },
    {
      "cell_type": "code",
      "source": [
        "# Ejemplo: primer usuario registrado en Twitter\n",
        "_id = \"12\"\n",
        "\n",
        "userSearch = client.get_user(id=_id)\n",
        "nombre = userSearch.data.name\n",
        "username = userSearch.data.username\n",
        "print(\"El nombre es '{}' y el username es '{}'\". format(nombre, username))"
      ],
      "metadata": {
        "id": "hqIr1_TCmiD1"
      },
      "execution_count": null,
      "outputs": []
    }
  ]
}